{
 "cells": [
  {
   "cell_type": "markdown",
   "metadata": {},
   "source": [
    "### Imports "
   ]
  },
  {
   "cell_type": "code",
   "execution_count": 37,
   "metadata": {},
   "outputs": [],
   "source": [
    "import requests\n",
    "import json\n",
    "from bs4 import BeautifulSoup\n",
    "import os"
   ]
  },
  {
   "cell_type": "markdown",
   "metadata": {},
   "source": [
    "### Extraction of opinions\n"
   ]
  },
  {
   "cell_type": "code",
   "execution_count": 38,
   "metadata": {},
   "outputs": [],
   "source": [
    "with open('./cookie.json','r', encoding=\"UTF-8\") as jf:\n",
    "    headers = json.load(jf)"
   ]
  },
  {
   "cell_type": "code",
   "execution_count": 43,
   "metadata": {},
   "outputs": [],
   "source": [
    "product_id = \"17230358\"\n",
    "url = f\"https://www.ceneo.pl/{product_id}#tab=reviews\"\n",
    "all_opinions = []\n",
    "while url:\n",
    "    response = requests.get(url, headers = headers)\n",
    "    if response.status_code == 200:\n",
    "        page_dom = BeautifulSoup(response.text, \"html.parser\")\n",
    "        opinions = page_dom.select(\"div.js_product-review:not(.user-post--highlight)\")\n",
    "        \n",
    "        for opinion in opinions:\n",
    "            single_opinion = {}\n",
    "            single_opinion[\"opinion_id\"] = opinion[\"data-entry-id\"]\n",
    "            single_opinion[\"author\"] = opinion.select_one(\"span.user-post__author-name\").text\n",
    "            try:\n",
    "                single_opinion[\"recommend\"] = opinion.select_one(\"span.user-post_author-recomendation > em\").text\n",
    "            except AttributeError:\n",
    "                single_opinion[\"recommend\"] = None\n",
    "\n",
    "            try:\n",
    "                single_opinion[\"stars\"] = opinion.select_one(\"span.user-post__score-count\").text\n",
    "            except AttributeError:\n",
    "                single_opinion[\"stars\"] = None\n",
    "\n",
    "            try:\n",
    "                single_opinion[\"content\"] = opinion.select_one(\"div.user-post__text\").text\n",
    "\n",
    "            except AttributeError:\n",
    "                single_opinion[\"content\"] = None\n",
    "\n",
    "            single_opinion[\"pros\"] = [tag.text.strip() for tag in opinion.select(\"div.review-feature__item--positive\")]\n",
    "            single_opinion[\"cons\"] = [tag.text.strip() for tag in opinion.select(\"div.review-feature__item--negative\")]\n",
    "\n",
    "            single_opinion[\"up_votes\"] = opinion.select_one(\"button.vote-yes\")[\"data-total-vote\"]\n",
    "            single_opinion[\"down_votes\"] = opinion.select_one(\"button.vote-no\")[\"data-total-vote\"]\n",
    "            single_opinion[\"published\"] = opinion.select_one(\"span.user-post__published > time:nth-child(1)\")[\"datetime\"]\n",
    "            try:\n",
    "                single_opinion[\"purchased\"] = opinion.select_one(\"span.user-post__published > time:nth-child(2)\")[\"datetime\"]\n",
    "            except TypeError:\n",
    "                single_opinion[\"purchased\"] = None\n",
    "\n",
    "            all_opinions.append(single_opinion)\n",
    "\n",
    "        try:\n",
    "            url = \"https://www.ceneo.pl\"+page_dom.select_one(\"a.pagination__next\")[\"href\"]\n",
    "        except TypeError:\n",
    "            url = None\n",
    "        \n",
    "    \n",
    "    "
   ]
  },
  {
   "cell_type": "code",
   "execution_count": 44,
   "metadata": {},
   "outputs": [],
   "source": [
    "if not os.path.exists(\"./opinions\"):\n",
    "    os.mkdir(\"./opinions\")"
   ]
  },
  {
   "cell_type": "code",
   "execution_count": 45,
   "metadata": {},
   "outputs": [],
   "source": [
    "with open(f\"./opinions/{product_id}.json\",\"w\",encoding=\"UTF-8\") as jf:\n",
    "    json.dump(all_opinions, jf, indent=4, ensure_ascii=False)"
   ]
  },
  {
   "cell_type": "code",
   "execution_count": 46,
   "metadata": {},
   "outputs": [],
   "source": [
    "product_id = \"17230358\""
   ]
  }
 ],
 "metadata": {
  "kernelspec": {
   "display_name": ".venv",
   "language": "python",
   "name": "python3"
  },
  "language_info": {
   "codemirror_mode": {
    "name": "ipython",
    "version": 3
   },
   "file_extension": ".py",
   "mimetype": "text/x-python",
   "name": "python",
   "nbconvert_exporter": "python",
   "pygments_lexer": "ipython3",
   "version": "3.13.0"
  }
 },
 "nbformat": 4,
 "nbformat_minor": 2
}
