{
 "cells": [
  {
   "cell_type": "markdown",
   "metadata": {},
   "source": [
    "### Imports "
   ]
  },
  {
   "cell_type": "code",
   "execution_count": 63,
   "metadata": {},
   "outputs": [],
   "source": [
    "import requests\n",
    "import json\n",
    "from bs4 import BeautifulSoup\n",
    "import os\n",
    "from deep_translator import GoogleTranslator\n",
    "import datetime\n"
   ]
  },
  {
   "cell_type": "markdown",
   "metadata": {},
   "source": [
    "### Utils"
   ]
  },
  {
   "cell_type": "code",
   "execution_count": 64,
   "metadata": {},
   "outputs": [],
   "source": [
    "def translate(text, source ='pl', target ='en'):\n",
    "    return GoogleTranslator(source, target).translate(text=text)"
   ]
  },
  {
   "cell_type": "code",
   "execution_count": 65,
   "metadata": {},
   "outputs": [],
   "source": [
    "def extract(ancestor, selector=None, attribute=None, multiple=False):\n",
    "    if selector:\n",
    "\n",
    "        if multiple:\n",
    "            if attribute:\n",
    "                return [tag[attribute].strip() for tag in ancestor.select(selector)]\n",
    "            return [tag.text.strip() for tag in ancestor.select(selector)]\n",
    "        if attribute:\n",
    "\n",
    "            try:\n",
    "                return ancestor.select_one(selector)[attribute].strip()\n",
    "            except TypeError:\n",
    "                return None\n",
    "            \n",
    "        try:\n",
    "            return ancestor.select_one(selector).text.strip()\n",
    "        except AttributeError:\n",
    "            return None\n",
    "        \n",
    "    if attribute:\n",
    "        return ancestor[attribute]\n",
    "    return ancestor.text.strip()\n",
    "        "
   ]
  },
  {
   "cell_type": "code",
   "execution_count": 66,
   "metadata": {},
   "outputs": [],
   "source": [
    "selectors ={\n",
    "\"opinion_id\" : (None,\"data-entry-id\"),\n",
    "\"author\" : (\"span.user-post__author-name\",),            \n",
    "\"recommend\" : (\"span.user-post_author-recomendation > em\",),           \n",
    "\"stars\" : (\"span.user-post__score-count\",),          \n",
    "\"content_pl\" : (\"div.user-post__text\",),\n",
    "\"pros_pl\" : (\"div.review-feature__item--positive\", None, True),\n",
    "\"cons_pl\" : (\"div.review-feature__item--negative\", None, True),\n",
    "\"up_votes\" :(\"button.vote-yes\",\"data-total-vote\"),\n",
    "\"down_votes\" : (\"button.vote-no\",\"data-total-vote\"),\n",
    "\"published\" : (\"span.user-post__published > time:nth-child(1)\",\"datetime\"),          \n",
    "\"purchased\" : (\"span.user-post__published > time:nth-child(2)\",\"datetime\")\n",
    "}"
   ]
  },
  {
   "cell_type": "markdown",
   "metadata": {},
   "source": [
    "### Extraction of opinions\n"
   ]
  },
  {
   "cell_type": "code",
   "execution_count": 67,
   "metadata": {},
   "outputs": [],
   "source": [
    "with open('./cookie.json','r', encoding=\"UTF-8\") as jf:\n",
    "    headers = json.load(jf)"
   ]
  },
  {
   "cell_type": "code",
   "execution_count": null,
   "metadata": {},
   "outputs": [],
   "source": [
    "product_id = \"17230358\"\n",
    "url = f\"https://www.ceneo.pl/{product_id}#tab=reviews\"\n",
    "all_opinions = []\n",
    "while url:\n",
    "    response = requests.get(url, headers = headers)\n",
    "    if response.status_code == 200:\n",
    "        page_dom = BeautifulSoup(response.text, \"html.parser\")\n",
    "        opinions = page_dom.select(\"div.js_product-review:not(.user-post--highlight)\")\n",
    "        \n",
    "        for opinion in opinions:\n",
    "            single_opinion = {\n",
    "                key: extract(opinion, *values)\n",
    "                for key, values in selectors.items()\n",
    "            }\n",
    "            single_opinion[\"content_en\"] = translate(single_opinion[\"content_pl\"])\n",
    "            single_opinion['pros_en'] = [translate(pros) for pros in single_opinion['pros_pl']]\n",
    "            single_opinion['cons_en'] = [translate(cons) for cons in single_opinion['cons_pl']]\n",
    "            single_opinion['recommend'] = True if single_opinion['recommend'] == \"Polecam\" else False if single_opinion['recommend']== \"Nie polecam\" else None\n",
    "            single_opinion['stars'] = float(single_opinion['stars'].split(\"/\")[0].replace(\",\",\".\"))\n",
    "            #single_opinion['published'] = datetime.datetime.fromisoformat(single_opinion['published'])\n",
    "            #single_opinion['purchased'] = datetime.datetime.fromisoformat(single_opinion['purchased']) if single_opinion['purchased'] else None\n",
    "            single_opinion['up_votes'] = int(single_opinion['up_votes'])\n",
    "            single_opinion['down_votes'] = int(single_opinion['down_votes'])\n",
    "            all_opinions.append(single_opinion)\n",
    "\n",
    "        try:\n",
    "            url = \"https://www.ceneo.pl\"+page_dom.select_one(\"a.pagination__next\")[\"href\"]\n",
    "        except TypeError:\n",
    "            url = None\n",
    "        \n",
    "    \n",
    "    "
   ]
  },
  {
   "cell_type": "code",
   "execution_count": 81,
   "metadata": {},
   "outputs": [],
   "source": [
    "if not os.path.exists(\"./opinions\"):\n",
    "    os.mkdir(\"./opinions\")"
   ]
  },
  {
   "cell_type": "code",
   "execution_count": 82,
   "metadata": {},
   "outputs": [],
   "source": [
    "with open(f\"./opinions/{product_id}.json\",\"w\",encoding=\"UTF-8\") as jf:\n",
    "    json.dump(all_opinions, jf, indent=4, ensure_ascii=False)"
   ]
  },
  {
   "cell_type": "code",
   "execution_count": 83,
   "metadata": {},
   "outputs": [],
   "source": [
    "product_id = \"17230358\""
   ]
  }
 ],
 "metadata": {
  "kernelspec": {
   "display_name": ".venv",
   "language": "python",
   "name": "python3"
  },
  "language_info": {
   "codemirror_mode": {
    "name": "ipython",
    "version": 3
   },
   "file_extension": ".py",
   "mimetype": "text/x-python",
   "name": "python",
   "nbconvert_exporter": "python",
   "pygments_lexer": "ipython3",
   "version": "3.13.0"
  }
 },
 "nbformat": 4,
 "nbformat_minor": 2
}
