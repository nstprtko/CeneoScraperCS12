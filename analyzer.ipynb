{
 "cells": [
  {
   "cell_type": "markdown",
   "id": "35b72023",
   "metadata": {},
   "source": [
    "### Imports"
   ]
  },
  {
   "cell_type": "code",
   "execution_count": null,
   "id": "f800b0b5",
   "metadata": {},
   "outputs": [],
   "source": [
    "import os\n",
    "import pandas as pd\n",
    "import numpy as np\n",
    "from matplotlib import pyplot as plt"
   ]
  },
  {
   "cell_type": "markdown",
   "id": "a21b8ca6",
   "metadata": {},
   "source": [
    "### Getting opinions about product from database"
   ]
  },
  {
   "cell_type": "code",
   "execution_count": null,
   "id": "ff229caa",
   "metadata": {},
   "outputs": [],
   "source": [
    "print(*[filename.split(\".\")[0]for filename in os.listdir(\"./opinions\")], sep =\"\\n\")"
   ]
  },
  {
   "cell_type": "code",
   "execution_count": null,
   "id": "fb5fa4b5",
   "metadata": {},
   "outputs": [],
   "source": [
    "product_id = input(\"Please enter product code:\")"
   ]
  },
  {
   "cell_type": "code",
   "execution_count": null,
   "id": "a4eefaa7",
   "metadata": {},
   "outputs": [],
   "source": [
    "opinions = pd.read_json(f\"./opinions/{product_id}.json\")\n",
    "opinions"
   ]
  },
  {
   "cell_type": "markdown",
   "id": "1a9f8369",
   "metadata": {},
   "source": [
    "### Calculating basic statistics\n"
   ]
  },
  {
   "cell_type": "code",
   "execution_count": null,
   "id": "0484c565",
   "metadata": {},
   "outputs": [],
   "source": [
    "opinions_count = opinions.shape[0]\n",
    "pros_count = opinions.pros_pl.astype(bool).sum()\n",
    "cons_count = opinions.cons_pl.astype(bool).sum()\n",
    "average_stars = opinions.stars.mean()\n",
    "pros_cons_count = opinions.apply(lambda o: bool(o.pros_pl) and bool(o.cons_pl), axis=1).sum()\n",
    "print(f\"Number of opinions about the product : {opinions_count}\")\n",
    "print(f\"Number of opinions about the product in which advantages have been listed : {pros_count}\")\n",
    "print(f\"Number of opinions about the product in which disadvantages have been listed : {cons_count}\")\n",
    "print(f\"Number of opinions about the product in which advantages and disadvantages have been listed : {pros_cons_count}\")\n",
    "print(f\"Average score of the product: {average_stars:.2f}\")\n"
   ]
  },
  {
   "cell_type": "code",
   "execution_count": null,
   "id": "b201981d",
   "metadata": {},
   "outputs": [],
   "source": [
    "pros = opinions.pros_en.explode().value_counts()\n",
    "print(pros)\n",
    "cons = opinions.cons_en.explode().value_counts()\n",
    "print(cons)"
   ]
  },
  {
   "cell_type": "code",
   "execution_count": null,
   "id": "c5066ae1",
   "metadata": {},
   "outputs": [],
   "source": []
  },
  {
   "cell_type": "markdown",
   "id": "073fadb1",
   "metadata": {},
   "source": [
    "### Drawing charts"
   ]
  }
 ],
 "metadata": {
  "kernelspec": {
   "display_name": ".venv",
   "language": "python",
   "name": "python3"
  },
  "language_info": {
   "codemirror_mode": {
    "name": "ipython",
    "version": 3
   },
   "file_extension": ".py",
   "mimetype": "text/x-python",
   "name": "python",
   "nbconvert_exporter": "python",
   "pygments_lexer": "ipython3",
   "version": "3.13.0"
  }
 },
 "nbformat": 4,
 "nbformat_minor": 5
}
