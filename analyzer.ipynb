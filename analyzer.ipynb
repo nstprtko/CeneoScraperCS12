{
 "cells": [
  {
   "cell_type": "markdown",
   "id": "35b72023",
   "metadata": {},
   "source": [
    "### Imports"
   ]
  },
  {
   "cell_type": "code",
   "execution_count": 84,
   "id": "f800b0b5",
   "metadata": {},
   "outputs": [],
   "source": [
    "import os\n",
    "import pandas as pd\n",
    "import numpy as np\n",
    "from matplotlib import pyplot as plt"
   ]
  },
  {
   "cell_type": "markdown",
   "id": "a21b8ca6",
   "metadata": {},
   "source": [
    "### Getting opinions about product from database"
   ]
  },
  {
   "cell_type": "code",
   "execution_count": 87,
   "id": "ff229caa",
   "metadata": {},
   "outputs": [
    {
     "name": "stdout",
     "output_type": "stream",
     "text": [
      "16007338\n",
      "17230358\n",
      "81105423\n"
     ]
    }
   ],
   "source": [
    "print(*[filename.split(\".\")[0]for filename in os.listdir(\"./opinions\")], sep =\"\\n\")"
   ]
  },
  {
   "cell_type": "code",
   "execution_count": 88,
   "id": "fb5fa4b5",
   "metadata": {},
   "outputs": [],
   "source": [
    "product_id = input(\"Please enter product code:\")"
   ]
  },
  {
   "cell_type": "code",
   "execution_count": 89,
   "id": "a4eefaa7",
   "metadata": {},
   "outputs": [
    {
     "data": {
      "text/html": [
       "<div>\n",
       "<style scoped>\n",
       "    .dataframe tbody tr th:only-of-type {\n",
       "        vertical-align: middle;\n",
       "    }\n",
       "\n",
       "    .dataframe tbody tr th {\n",
       "        vertical-align: top;\n",
       "    }\n",
       "\n",
       "    .dataframe thead th {\n",
       "        text-align: right;\n",
       "    }\n",
       "</style>\n",
       "<table border=\"1\" class=\"dataframe\">\n",
       "  <thead>\n",
       "    <tr style=\"text-align: right;\">\n",
       "      <th></th>\n",
       "      <th>opinion_id</th>\n",
       "      <th>author</th>\n",
       "      <th>recommend</th>\n",
       "      <th>stars</th>\n",
       "      <th>content_pl</th>\n",
       "      <th>pros_pl</th>\n",
       "      <th>cons_pl</th>\n",
       "      <th>up_votes</th>\n",
       "      <th>down_votes</th>\n",
       "      <th>published</th>\n",
       "      <th>purchased</th>\n",
       "      <th>content_en</th>\n",
       "      <th>pros_en</th>\n",
       "      <th>cons_en</th>\n",
       "    </tr>\n",
       "  </thead>\n",
       "  <tbody>\n",
       "    <tr>\n",
       "      <th>0</th>\n",
       "      <td>4119789</td>\n",
       "      <td>Bartolini</td>\n",
       "      <td>NaN</td>\n",
       "      <td>5</td>\n",
       "      <td>Bardzo dobra gitara do nauki. Prosty gryf, str...</td>\n",
       "      <td>[]</td>\n",
       "      <td>[]</td>\n",
       "      <td>4</td>\n",
       "      <td>0</td>\n",
       "      <td>2016-10-28 22:30:13</td>\n",
       "      <td>2016-10-08 22:11:07</td>\n",
       "      <td>Very good learning guitar. A straight griffin,...</td>\n",
       "      <td>[]</td>\n",
       "      <td>[]</td>\n",
       "    </tr>\n",
       "    <tr>\n",
       "      <th>1</th>\n",
       "      <td>15939077</td>\n",
       "      <td>J...6</td>\n",
       "      <td>NaN</td>\n",
       "      <td>4</td>\n",
       "      <td>Gitara jest piękna, bardzo dobrze wykonana. Pr...</td>\n",
       "      <td>[brzmienie, jakość, wygląd]</td>\n",
       "      <td>[]</td>\n",
       "      <td>2</td>\n",
       "      <td>0</td>\n",
       "      <td>2022-04-08 21:58:57</td>\n",
       "      <td>2022-03-13 13:52:04</td>\n",
       "      <td>The guitar is beautiful, very well made. Befor...</td>\n",
       "      <td>[sound, quality, appearance]</td>\n",
       "      <td>[]</td>\n",
       "    </tr>\n",
       "    <tr>\n",
       "      <th>2</th>\n",
       "      <td>10222005</td>\n",
       "      <td>Marcin</td>\n",
       "      <td>NaN</td>\n",
       "      <td>5</td>\n",
       "      <td>Jak na początek nauki dla córki - rewelacja. N...</td>\n",
       "      <td>[brzmienie, jakość]</td>\n",
       "      <td>[]</td>\n",
       "      <td>3</td>\n",
       "      <td>0</td>\n",
       "      <td>2019-03-11 08:15:06</td>\n",
       "      <td>2019-02-07 13:58:06</td>\n",
       "      <td>As for the beginning of science for a daughter...</td>\n",
       "      <td>[sound, quality]</td>\n",
       "      <td>[]</td>\n",
       "    </tr>\n",
       "    <tr>\n",
       "      <th>3</th>\n",
       "      <td>19242156</td>\n",
       "      <td>m...k</td>\n",
       "      <td>NaN</td>\n",
       "      <td>5</td>\n",
       "      <td>Kupiłem gitarę jako prezent dla początkującego...</td>\n",
       "      <td>[brzmienie, jakość, wygląd]</td>\n",
       "      <td>[oznaczenia progów]</td>\n",
       "      <td>0</td>\n",
       "      <td>0</td>\n",
       "      <td>2024-11-28 09:13:03</td>\n",
       "      <td>2024-11-19 12:34:36</td>\n",
       "      <td>I bought a guitar as a gift for a beginner. Th...</td>\n",
       "      <td>[sound, quality, appearance]</td>\n",
       "      <td>[thresholds]</td>\n",
       "    </tr>\n",
       "    <tr>\n",
       "      <th>4</th>\n",
       "      <td>8433857</td>\n",
       "      <td>Robert</td>\n",
       "      <td>NaN</td>\n",
       "      <td>5</td>\n",
       "      <td>Aż nie do do wiary że taki instrument kosztuje...</td>\n",
       "      <td>[]</td>\n",
       "      <td>[]</td>\n",
       "      <td>2</td>\n",
       "      <td>0</td>\n",
       "      <td>2018-10-11 20:57:13</td>\n",
       "      <td>2018-10-04 22:59:45</td>\n",
       "      <td>It is not to faith that such an instrument cos...</td>\n",
       "      <td>[]</td>\n",
       "      <td>[]</td>\n",
       "    </tr>\n",
       "    <tr>\n",
       "      <th>5</th>\n",
       "      <td>17430401</td>\n",
       "      <td>t...k</td>\n",
       "      <td>NaN</td>\n",
       "      <td>5</td>\n",
       "      <td>Gitara brzmi dobrze, jednak przy zakupie zalec...</td>\n",
       "      <td>[brzmienie, jakość, wygląd]</td>\n",
       "      <td>[kiepska jakość strun]</td>\n",
       "      <td>0</td>\n",
       "      <td>0</td>\n",
       "      <td>2023-04-21 12:48:04</td>\n",
       "      <td>2023-04-02 15:38:37</td>\n",
       "      <td>The guitar sounds good, but when buying, I rec...</td>\n",
       "      <td>[sound, quality, appearance]</td>\n",
       "      <td>[poor quality strings]</td>\n",
       "    </tr>\n",
       "    <tr>\n",
       "      <th>6</th>\n",
       "      <td>15611497</td>\n",
       "      <td>j...k</td>\n",
       "      <td>NaN</td>\n",
       "      <td>5</td>\n",
       "      <td>SUPER(!), choć przed muzykowaniem, musiałem tr...</td>\n",
       "      <td>[brzmienie, jakość, wygląd]</td>\n",
       "      <td>[]</td>\n",
       "      <td>1</td>\n",
       "      <td>1</td>\n",
       "      <td>2022-01-26 08:36:19</td>\n",
       "      <td>2021-10-24 11:38:00</td>\n",
       "      <td>Super (!), Although before music, I had to \"sl...</td>\n",
       "      <td>[sound, quality, appearance]</td>\n",
       "      <td>[]</td>\n",
       "    </tr>\n",
       "    <tr>\n",
       "      <th>7</th>\n",
       "      <td>8588178</td>\n",
       "      <td>Użytkownik Ceneo</td>\n",
       "      <td>NaN</td>\n",
       "      <td>5</td>\n",
       "      <td>Towar zgodny z opisem, wygląd gitara z połyski...</td>\n",
       "      <td>[]</td>\n",
       "      <td>[]</td>\n",
       "      <td>1</td>\n",
       "      <td>0</td>\n",
       "      <td>2018-11-19 21:44:19</td>\n",
       "      <td>2018-11-14 19:32:08</td>\n",
       "      <td>Goods in accordance with the description, the ...</td>\n",
       "      <td>[]</td>\n",
       "      <td>[]</td>\n",
       "    </tr>\n",
       "    <tr>\n",
       "      <th>8</th>\n",
       "      <td>14424462</td>\n",
       "      <td>m...l</td>\n",
       "      <td>NaN</td>\n",
       "      <td>5</td>\n",
       "      <td>Po prostu mi odpowiada, nie mam porównania do ...</td>\n",
       "      <td>[brzmienie, jakość, wygląd]</td>\n",
       "      <td>[]</td>\n",
       "      <td>0</td>\n",
       "      <td>0</td>\n",
       "      <td>2021-05-07 16:39:00</td>\n",
       "      <td>2021-05-05 20:27:41</td>\n",
       "      <td>He just suits me, I don't have a comparison to...</td>\n",
       "      <td>[sound, quality, appearance]</td>\n",
       "      <td>[]</td>\n",
       "    </tr>\n",
       "    <tr>\n",
       "      <th>9</th>\n",
       "      <td>19257775</td>\n",
       "      <td>o...a</td>\n",
       "      <td>NaN</td>\n",
       "      <td>5</td>\n",
       "      <td>fajny dla początkujących do nauki gry w przyst...</td>\n",
       "      <td>[brzmienie, jakość, wygląd]</td>\n",
       "      <td>[]</td>\n",
       "      <td>0</td>\n",
       "      <td>0</td>\n",
       "      <td>2024-12-04 08:52:08</td>\n",
       "      <td>2024-11-29 12:14:12</td>\n",
       "      <td>Nice for beginners to learn to play at an affo...</td>\n",
       "      <td>[sound, quality, appearance]</td>\n",
       "      <td>[]</td>\n",
       "    </tr>\n",
       "  </tbody>\n",
       "</table>\n",
       "</div>"
      ],
      "text/plain": [
       "   opinion_id            author  recommend  stars  \\\n",
       "0     4119789         Bartolini        NaN      5   \n",
       "1    15939077             J...6        NaN      4   \n",
       "2    10222005            Marcin        NaN      5   \n",
       "3    19242156             m...k        NaN      5   \n",
       "4     8433857            Robert        NaN      5   \n",
       "5    17430401             t...k        NaN      5   \n",
       "6    15611497             j...k        NaN      5   \n",
       "7     8588178  Użytkownik Ceneo        NaN      5   \n",
       "8    14424462             m...l        NaN      5   \n",
       "9    19257775             o...a        NaN      5   \n",
       "\n",
       "                                          content_pl  \\\n",
       "0  Bardzo dobra gitara do nauki. Prosty gryf, str...   \n",
       "1  Gitara jest piękna, bardzo dobrze wykonana. Pr...   \n",
       "2  Jak na początek nauki dla córki - rewelacja. N...   \n",
       "3  Kupiłem gitarę jako prezent dla początkującego...   \n",
       "4  Aż nie do do wiary że taki instrument kosztuje...   \n",
       "5  Gitara brzmi dobrze, jednak przy zakupie zalec...   \n",
       "6  SUPER(!), choć przed muzykowaniem, musiałem tr...   \n",
       "7  Towar zgodny z opisem, wygląd gitara z połyski...   \n",
       "8  Po prostu mi odpowiada, nie mam porównania do ...   \n",
       "9  fajny dla początkujących do nauki gry w przyst...   \n",
       "\n",
       "                       pros_pl                 cons_pl  up_votes  down_votes  \\\n",
       "0                           []                      []         4           0   \n",
       "1  [brzmienie, jakość, wygląd]                      []         2           0   \n",
       "2          [brzmienie, jakość]                      []         3           0   \n",
       "3  [brzmienie, jakość, wygląd]     [oznaczenia progów]         0           0   \n",
       "4                           []                      []         2           0   \n",
       "5  [brzmienie, jakość, wygląd]  [kiepska jakość strun]         0           0   \n",
       "6  [brzmienie, jakość, wygląd]                      []         1           1   \n",
       "7                           []                      []         1           0   \n",
       "8  [brzmienie, jakość, wygląd]                      []         0           0   \n",
       "9  [brzmienie, jakość, wygląd]                      []         0           0   \n",
       "\n",
       "             published            purchased  \\\n",
       "0  2016-10-28 22:30:13  2016-10-08 22:11:07   \n",
       "1  2022-04-08 21:58:57  2022-03-13 13:52:04   \n",
       "2  2019-03-11 08:15:06  2019-02-07 13:58:06   \n",
       "3  2024-11-28 09:13:03  2024-11-19 12:34:36   \n",
       "4  2018-10-11 20:57:13  2018-10-04 22:59:45   \n",
       "5  2023-04-21 12:48:04  2023-04-02 15:38:37   \n",
       "6  2022-01-26 08:36:19  2021-10-24 11:38:00   \n",
       "7  2018-11-19 21:44:19  2018-11-14 19:32:08   \n",
       "8  2021-05-07 16:39:00  2021-05-05 20:27:41   \n",
       "9  2024-12-04 08:52:08  2024-11-29 12:14:12   \n",
       "\n",
       "                                          content_en  \\\n",
       "0  Very good learning guitar. A straight griffin,...   \n",
       "1  The guitar is beautiful, very well made. Befor...   \n",
       "2  As for the beginning of science for a daughter...   \n",
       "3  I bought a guitar as a gift for a beginner. Th...   \n",
       "4  It is not to faith that such an instrument cos...   \n",
       "5  The guitar sounds good, but when buying, I rec...   \n",
       "6  Super (!), Although before music, I had to \"sl...   \n",
       "7  Goods in accordance with the description, the ...   \n",
       "8  He just suits me, I don't have a comparison to...   \n",
       "9  Nice for beginners to learn to play at an affo...   \n",
       "\n",
       "                        pros_en                 cons_en  \n",
       "0                            []                      []  \n",
       "1  [sound, quality, appearance]                      []  \n",
       "2              [sound, quality]                      []  \n",
       "3  [sound, quality, appearance]            [thresholds]  \n",
       "4                            []                      []  \n",
       "5  [sound, quality, appearance]  [poor quality strings]  \n",
       "6  [sound, quality, appearance]                      []  \n",
       "7                            []                      []  \n",
       "8  [sound, quality, appearance]                      []  \n",
       "9  [sound, quality, appearance]                      []  "
      ]
     },
     "execution_count": 89,
     "metadata": {},
     "output_type": "execute_result"
    }
   ],
   "source": [
    "opinions = pd.read_json(f\"./opinions/{product_id}.json\")\n",
    "opinions"
   ]
  },
  {
   "cell_type": "markdown",
   "id": "1a9f8369",
   "metadata": {},
   "source": [
    "### Calculating basic statistics\n"
   ]
  },
  {
   "cell_type": "code",
   "execution_count": 90,
   "id": "0484c565",
   "metadata": {},
   "outputs": [
    {
     "name": "stdout",
     "output_type": "stream",
     "text": [
      "Number of opinions about the product : 10\n",
      "Number of opinions about the product in which advantages have been listed : 7\n",
      "Number of opinions about the product in which disadvantages have been listed : 2\n",
      "Number of opinions about the product in which advantages and disadvantages have been listed : 2\n",
      "Average score of the product: 4.90\n"
     ]
    }
   ],
   "source": [
    "opinions_count = opinions.shape[0]\n",
    "pros_count = opinions.pros_pl.astype(bool).sum()\n",
    "cons_count = opinions.cons_pl.astype(bool).sum()\n",
    "average_stars = opinions.stars.mean()\n",
    "pros_cons_count = opinions.apply(lambda o: bool(o.pros_pl) and bool(o.cons_pl), axis=1).sum()\n",
    "print(f\"Number of opinions about the product : {opinions_count}\")\n",
    "print(f\"Number of opinions about the product in which advantages have been listed : {pros_count}\")\n",
    "print(f\"Number of opinions about the product in which disadvantages have been listed : {cons_count}\")\n",
    "print(f\"Number of opinions about the product in which advantages and disadvantages have been listed : {pros_cons_count}\")\n",
    "print(f\"Average score of the product: {average_stars:.2f}\")\n"
   ]
  },
  {
   "cell_type": "code",
   "execution_count": 91,
   "id": "b201981d",
   "metadata": {},
   "outputs": [
    {
     "name": "stdout",
     "output_type": "stream",
     "text": [
      "pros_en\n",
      "sound         7\n",
      "quality       7\n",
      "appearance    6\n",
      "Name: count, dtype: int64\n",
      "cons_en\n",
      "thresholds              1\n",
      "poor quality strings    1\n",
      "Name: count, dtype: int64\n"
     ]
    }
   ],
   "source": [
    "pros = opinions.pros_en.explode().value_counts()\n",
    "print(pros)\n",
    "cons = opinions.cons_en.explode().value_counts()\n",
    "print(cons)"
   ]
  },
  {
   "cell_type": "markdown",
   "id": "073fadb1",
   "metadata": {},
   "source": [
    "### Drawing charts"
   ]
  },
  {
   "cell_type": "code",
   "execution_count": 92,
   "id": "920c90d7",
   "metadata": {},
   "outputs": [],
   "source": [
    "if not os.path.exists(\"./pie_charts\"):\n",
    "    os.mkdir(\"./pie_charts\")\n",
    "if not os.path.exists(\"./bar_charts\"):\n",
    "    os.mkdir(\"./bar_charts\")\n"
   ]
  },
  {
   "cell_type": "code",
   "execution_count": 93,
   "id": "4bb28275",
   "metadata": {},
   "outputs": [
    {
     "data": {
      "text/plain": [
       "recommend\n",
       "True     0\n",
       "False    0\n",
       "None     0\n",
       "Name: count, dtype: int64"
      ]
     },
     "execution_count": 93,
     "metadata": {},
     "output_type": "execute_result"
    }
   ],
   "source": [
    "recommendations = opinions.recommend.value_counts(dropna=False).reindex([True, False, None], fill_value=0)\n",
    "recommendations"
   ]
  },
  {
   "cell_type": "code",
   "execution_count": 76,
   "id": "734a7510",
   "metadata": {},
   "outputs": [
    {
     "name": "stderr",
     "output_type": "stream",
     "text": [
      "d:\\CeneoScraperCS12\\CeneoScraperCS12\\.venv\\Lib\\site-packages\\matplotlib\\axes\\_axes.py:3365: RuntimeWarning: invalid value encountered in divide\n",
      "  x = x / sx\n"
     ]
    },
    {
     "ename": "ValueError",
     "evalue": "cannot convert float NaN to integer",
     "output_type": "error",
     "traceback": [
      "\u001b[31m---------------------------------------------------------------------------\u001b[39m",
      "\u001b[31mValueError\u001b[39m                                Traceback (most recent call last)",
      "\u001b[36mCell\u001b[39m\u001b[36m \u001b[39m\u001b[32mIn[76]\u001b[39m\u001b[32m, line 1\u001b[39m\n\u001b[32m----> \u001b[39m\u001b[32m1\u001b[39m \u001b[43mrecommendations\u001b[49m\u001b[43m.\u001b[49m\u001b[43mplot\u001b[49m\u001b[43m.\u001b[49m\u001b[43mpie\u001b[49m\u001b[43m(\u001b[49m\n\u001b[32m      2\u001b[39m \u001b[43m    \u001b[49m\u001b[43mlabel\u001b[49m\u001b[43m \u001b[49m\u001b[43m=\u001b[49m\u001b[43m \u001b[49m\u001b[33;43m\"\u001b[39;49m\u001b[33;43m\"\u001b[39;49m\u001b[43m,\u001b[49m\n\u001b[32m      3\u001b[39m \u001b[43m    \u001b[49m\u001b[43mlabels\u001b[49m\u001b[43m \u001b[49m\u001b[43m=\u001b[49m\u001b[43m \u001b[49m\u001b[43m[\u001b[49m\u001b[33;43m\"\u001b[39;49m\u001b[33;43mRecommend\u001b[39;49m\u001b[33;43m\"\u001b[39;49m\u001b[43m,\u001b[49m\u001b[43m \u001b[49m\u001b[33;43m\"\u001b[39;49m\u001b[33;43mNot recommend\u001b[39;49m\u001b[33;43m\"\u001b[39;49m\u001b[43m,\u001b[49m\u001b[33;43m\"\u001b[39;49m\u001b[33;43mNo opinion\u001b[39;49m\u001b[33;43m\"\u001b[39;49m\u001b[43m]\u001b[49m\u001b[43m,\u001b[49m\n\u001b[32m      4\u001b[39m \u001b[43m    \u001b[49m\u001b[43mautopct\u001b[49m\u001b[43m \u001b[49m\u001b[43m=\u001b[49m\u001b[43m \u001b[49m\u001b[38;5;28;43;01mlambda\u001b[39;49;00m\u001b[43m \u001b[49m\u001b[43mr\u001b[49m\u001b[43m:\u001b[49m\u001b[43m \u001b[49m\u001b[33;43mf\u001b[39;49m\u001b[33;43m\"\u001b[39;49m\u001b[38;5;132;43;01m{\u001b[39;49;00m\u001b[43mr\u001b[49m\u001b[38;5;132;43;01m:\u001b[39;49;00m\u001b[33;43m.1f\u001b[39;49m\u001b[38;5;132;43;01m}\u001b[39;49;00m\u001b[33;43m%\u001b[39;49m\u001b[33;43m\"\u001b[39;49m\u001b[43m \u001b[49m\u001b[38;5;28;43;01mif\u001b[39;49;00m\u001b[43m \u001b[49m\u001b[43mr\u001b[49m\u001b[43m>\u001b[49m\u001b[32;43m0\u001b[39;49m\u001b[43m \u001b[49m\u001b[38;5;28;43;01melse\u001b[39;49;00m\u001b[43m \u001b[49m\u001b[33;43m\"\u001b[39;49m\u001b[33;43m\"\u001b[39;49m\n\u001b[32m      5\u001b[39m \n\u001b[32m      6\u001b[39m \u001b[43m)\u001b[49m\n\u001b[32m      7\u001b[39m plt.title(\u001b[33mf\u001b[39m\u001b[33m\"\u001b[39m\u001b[33mRecommendations for product \u001b[39m\u001b[38;5;132;01m{\u001b[39;00mproduct_id\u001b[38;5;132;01m}\u001b[39;00m\u001b[38;5;130;01m\\n\u001b[39;00m\u001b[33mTotal number of opinions: \u001b[39m\u001b[38;5;132;01m{\u001b[39;00mopinions_count\u001b[38;5;132;01m}\u001b[39;00m\u001b[33m\"\u001b[39m)\n\u001b[32m      8\u001b[39m plt.savefig(\u001b[33mf\u001b[39m\u001b[33m\"\u001b[39m\u001b[33m./pie_charts/\u001b[39m\u001b[38;5;132;01m{\u001b[39;00mproduct_id\u001b[38;5;132;01m}\u001b[39;00m\u001b[33m.png\u001b[39m\u001b[33m\"\u001b[39m)\n",
      "\u001b[36mFile \u001b[39m\u001b[32md:\\CeneoScraperCS12\\CeneoScraperCS12\\.venv\\Lib\\site-packages\\pandas\\plotting\\_core.py:1658\u001b[39m, in \u001b[36mPlotAccessor.pie\u001b[39m\u001b[34m(self, **kwargs)\u001b[39m\n\u001b[32m   1652\u001b[39m \u001b[38;5;28;01mif\u001b[39;00m (\n\u001b[32m   1653\u001b[39m     \u001b[38;5;28misinstance\u001b[39m(\u001b[38;5;28mself\u001b[39m._parent, ABCDataFrame)\n\u001b[32m   1654\u001b[39m     \u001b[38;5;129;01mand\u001b[39;00m kwargs.get(\u001b[33m\"\u001b[39m\u001b[33my\u001b[39m\u001b[33m\"\u001b[39m, \u001b[38;5;28;01mNone\u001b[39;00m) \u001b[38;5;129;01mis\u001b[39;00m \u001b[38;5;28;01mNone\u001b[39;00m\n\u001b[32m   1655\u001b[39m     \u001b[38;5;129;01mand\u001b[39;00m \u001b[38;5;129;01mnot\u001b[39;00m kwargs.get(\u001b[33m\"\u001b[39m\u001b[33msubplots\u001b[39m\u001b[33m\"\u001b[39m, \u001b[38;5;28;01mFalse\u001b[39;00m)\n\u001b[32m   1656\u001b[39m ):\n\u001b[32m   1657\u001b[39m     \u001b[38;5;28;01mraise\u001b[39;00m \u001b[38;5;167;01mValueError\u001b[39;00m(\u001b[33m\"\u001b[39m\u001b[33mpie requires either y column or \u001b[39m\u001b[33m'\u001b[39m\u001b[33msubplots=True\u001b[39m\u001b[33m'\u001b[39m\u001b[33m\"\u001b[39m)\n\u001b[32m-> \u001b[39m\u001b[32m1658\u001b[39m \u001b[38;5;28;01mreturn\u001b[39;00m \u001b[38;5;28;43mself\u001b[39;49m\u001b[43m(\u001b[49m\u001b[43mkind\u001b[49m\u001b[43m=\u001b[49m\u001b[33;43m\"\u001b[39;49m\u001b[33;43mpie\u001b[39;49m\u001b[33;43m\"\u001b[39;49m\u001b[43m,\u001b[49m\u001b[43m \u001b[49m\u001b[43m*\u001b[49m\u001b[43m*\u001b[49m\u001b[43mkwargs\u001b[49m\u001b[43m)\u001b[49m\n",
      "\u001b[36mFile \u001b[39m\u001b[32md:\\CeneoScraperCS12\\CeneoScraperCS12\\.venv\\Lib\\site-packages\\pandas\\plotting\\_core.py:1030\u001b[39m, in \u001b[36mPlotAccessor.__call__\u001b[39m\u001b[34m(self, *args, **kwargs)\u001b[39m\n\u001b[32m   1027\u001b[39m             label_name = label_kw \u001b[38;5;129;01mor\u001b[39;00m data.columns\n\u001b[32m   1028\u001b[39m             data.columns = label_name\n\u001b[32m-> \u001b[39m\u001b[32m1030\u001b[39m \u001b[38;5;28;01mreturn\u001b[39;00m \u001b[43mplot_backend\u001b[49m\u001b[43m.\u001b[49m\u001b[43mplot\u001b[49m\u001b[43m(\u001b[49m\u001b[43mdata\u001b[49m\u001b[43m,\u001b[49m\u001b[43m \u001b[49m\u001b[43mkind\u001b[49m\u001b[43m=\u001b[49m\u001b[43mkind\u001b[49m\u001b[43m,\u001b[49m\u001b[43m \u001b[49m\u001b[43m*\u001b[49m\u001b[43m*\u001b[49m\u001b[43mkwargs\u001b[49m\u001b[43m)\u001b[49m\n",
      "\u001b[36mFile \u001b[39m\u001b[32md:\\CeneoScraperCS12\\CeneoScraperCS12\\.venv\\Lib\\site-packages\\pandas\\plotting\\_matplotlib\\__init__.py:71\u001b[39m, in \u001b[36mplot\u001b[39m\u001b[34m(data, kind, **kwargs)\u001b[39m\n\u001b[32m     69\u001b[39m         kwargs[\u001b[33m\"\u001b[39m\u001b[33max\u001b[39m\u001b[33m\"\u001b[39m] = \u001b[38;5;28mgetattr\u001b[39m(ax, \u001b[33m\"\u001b[39m\u001b[33mleft_ax\u001b[39m\u001b[33m\"\u001b[39m, ax)\n\u001b[32m     70\u001b[39m plot_obj = PLOT_CLASSES[kind](data, **kwargs)\n\u001b[32m---> \u001b[39m\u001b[32m71\u001b[39m \u001b[43mplot_obj\u001b[49m\u001b[43m.\u001b[49m\u001b[43mgenerate\u001b[49m\u001b[43m(\u001b[49m\u001b[43m)\u001b[49m\n\u001b[32m     72\u001b[39m plot_obj.draw()\n\u001b[32m     73\u001b[39m \u001b[38;5;28;01mreturn\u001b[39;00m plot_obj.result\n",
      "\u001b[36mFile \u001b[39m\u001b[32md:\\CeneoScraperCS12\\CeneoScraperCS12\\.venv\\Lib\\site-packages\\pandas\\plotting\\_matplotlib\\core.py:501\u001b[39m, in \u001b[36mMPLPlot.generate\u001b[39m\u001b[34m(self)\u001b[39m\n\u001b[32m    499\u001b[39m \u001b[38;5;28mself\u001b[39m._compute_plot_data()\n\u001b[32m    500\u001b[39m fig = \u001b[38;5;28mself\u001b[39m.fig\n\u001b[32m--> \u001b[39m\u001b[32m501\u001b[39m \u001b[38;5;28;43mself\u001b[39;49m\u001b[43m.\u001b[49m\u001b[43m_make_plot\u001b[49m\u001b[43m(\u001b[49m\u001b[43mfig\u001b[49m\u001b[43m)\u001b[49m\n\u001b[32m    502\u001b[39m \u001b[38;5;28mself\u001b[39m._add_table()\n\u001b[32m    503\u001b[39m \u001b[38;5;28mself\u001b[39m._make_legend()\n",
      "\u001b[36mFile \u001b[39m\u001b[32md:\\CeneoScraperCS12\\CeneoScraperCS12\\.venv\\Lib\\site-packages\\pandas\\plotting\\_matplotlib\\core.py:2107\u001b[39m, in \u001b[36mPiePlot._make_plot\u001b[39m\u001b[34m(self, fig)\u001b[39m\n\u001b[32m   2105\u001b[39m \u001b[38;5;28;01melse\u001b[39;00m:\n\u001b[32m   2106\u001b[39m     blabels = \u001b[38;5;28;01mNone\u001b[39;00m\n\u001b[32m-> \u001b[39m\u001b[32m2107\u001b[39m results = \u001b[43max\u001b[49m\u001b[43m.\u001b[49m\u001b[43mpie\u001b[49m\u001b[43m(\u001b[49m\u001b[43my\u001b[49m\u001b[43m,\u001b[49m\u001b[43m \u001b[49m\u001b[43mlabels\u001b[49m\u001b[43m=\u001b[49m\u001b[43mblabels\u001b[49m\u001b[43m,\u001b[49m\u001b[43m \u001b[49m\u001b[43m*\u001b[49m\u001b[43m*\u001b[49m\u001b[43mkwds\u001b[49m\u001b[43m)\u001b[49m\n\u001b[32m   2109\u001b[39m \u001b[38;5;28;01mif\u001b[39;00m kwds.get(\u001b[33m\"\u001b[39m\u001b[33mautopct\u001b[39m\u001b[33m\"\u001b[39m, \u001b[38;5;28;01mNone\u001b[39;00m) \u001b[38;5;129;01mis\u001b[39;00m \u001b[38;5;129;01mnot\u001b[39;00m \u001b[38;5;28;01mNone\u001b[39;00m:\n\u001b[32m   2110\u001b[39m     patches, texts, autotexts = results\n",
      "\u001b[36mFile \u001b[39m\u001b[32md:\\CeneoScraperCS12\\CeneoScraperCS12\\.venv\\Lib\\site-packages\\matplotlib\\_api\\deprecation.py:453\u001b[39m, in \u001b[36mmake_keyword_only.<locals>.wrapper\u001b[39m\u001b[34m(*args, **kwargs)\u001b[39m\n\u001b[32m    447\u001b[39m \u001b[38;5;28;01mif\u001b[39;00m \u001b[38;5;28mlen\u001b[39m(args) > name_idx:\n\u001b[32m    448\u001b[39m     warn_deprecated(\n\u001b[32m    449\u001b[39m         since, message=\u001b[33m\"\u001b[39m\u001b[33mPassing the \u001b[39m\u001b[38;5;132;01m%(name)s\u001b[39;00m\u001b[33m \u001b[39m\u001b[38;5;132;01m%(obj_type)s\u001b[39;00m\u001b[33m \u001b[39m\u001b[33m\"\u001b[39m\n\u001b[32m    450\u001b[39m         \u001b[33m\"\u001b[39m\u001b[33mpositionally is deprecated since Matplotlib \u001b[39m\u001b[38;5;132;01m%(since)s\u001b[39;00m\u001b[33m; the \u001b[39m\u001b[33m\"\u001b[39m\n\u001b[32m    451\u001b[39m         \u001b[33m\"\u001b[39m\u001b[33mparameter will become keyword-only in \u001b[39m\u001b[38;5;132;01m%(removal)s\u001b[39;00m\u001b[33m.\u001b[39m\u001b[33m\"\u001b[39m,\n\u001b[32m    452\u001b[39m         name=name, obj_type=\u001b[33mf\u001b[39m\u001b[33m\"\u001b[39m\u001b[33mparameter of \u001b[39m\u001b[38;5;132;01m{\u001b[39;00mfunc.\u001b[34m__name__\u001b[39m\u001b[38;5;132;01m}\u001b[39;00m\u001b[33m()\u001b[39m\u001b[33m\"\u001b[39m)\n\u001b[32m--> \u001b[39m\u001b[32m453\u001b[39m \u001b[38;5;28;01mreturn\u001b[39;00m \u001b[43mfunc\u001b[49m\u001b[43m(\u001b[49m\u001b[43m*\u001b[49m\u001b[43margs\u001b[49m\u001b[43m,\u001b[49m\u001b[43m \u001b[49m\u001b[43m*\u001b[49m\u001b[43m*\u001b[49m\u001b[43mkwargs\u001b[49m\u001b[43m)\u001b[49m\n",
      "\u001b[36mFile \u001b[39m\u001b[32md:\\CeneoScraperCS12\\CeneoScraperCS12\\.venv\\Lib\\site-packages\\matplotlib\\__init__.py:1521\u001b[39m, in \u001b[36m_preprocess_data.<locals>.inner\u001b[39m\u001b[34m(ax, data, *args, **kwargs)\u001b[39m\n\u001b[32m   1518\u001b[39m \u001b[38;5;129m@functools\u001b[39m.wraps(func)\n\u001b[32m   1519\u001b[39m \u001b[38;5;28;01mdef\u001b[39;00m\u001b[38;5;250m \u001b[39m\u001b[34minner\u001b[39m(ax, *args, data=\u001b[38;5;28;01mNone\u001b[39;00m, **kwargs):\n\u001b[32m   1520\u001b[39m     \u001b[38;5;28;01mif\u001b[39;00m data \u001b[38;5;129;01mis\u001b[39;00m \u001b[38;5;28;01mNone\u001b[39;00m:\n\u001b[32m-> \u001b[39m\u001b[32m1521\u001b[39m         \u001b[38;5;28;01mreturn\u001b[39;00m \u001b[43mfunc\u001b[49m\u001b[43m(\u001b[49m\n\u001b[32m   1522\u001b[39m \u001b[43m            \u001b[49m\u001b[43max\u001b[49m\u001b[43m,\u001b[49m\n\u001b[32m   1523\u001b[39m \u001b[43m            \u001b[49m\u001b[43m*\u001b[49m\u001b[38;5;28;43mmap\u001b[39;49m\u001b[43m(\u001b[49m\u001b[43mcbook\u001b[49m\u001b[43m.\u001b[49m\u001b[43msanitize_sequence\u001b[49m\u001b[43m,\u001b[49m\u001b[43m \u001b[49m\u001b[43margs\u001b[49m\u001b[43m)\u001b[49m\u001b[43m,\u001b[49m\n\u001b[32m   1524\u001b[39m \u001b[43m            \u001b[49m\u001b[43m*\u001b[49m\u001b[43m*\u001b[49m\u001b[43m{\u001b[49m\u001b[43mk\u001b[49m\u001b[43m:\u001b[49m\u001b[43m \u001b[49m\u001b[43mcbook\u001b[49m\u001b[43m.\u001b[49m\u001b[43msanitize_sequence\u001b[49m\u001b[43m(\u001b[49m\u001b[43mv\u001b[49m\u001b[43m)\u001b[49m\u001b[43m \u001b[49m\u001b[38;5;28;43;01mfor\u001b[39;49;00m\u001b[43m \u001b[49m\u001b[43mk\u001b[49m\u001b[43m,\u001b[49m\u001b[43m \u001b[49m\u001b[43mv\u001b[49m\u001b[43m \u001b[49m\u001b[38;5;129;43;01min\u001b[39;49;00m\u001b[43m \u001b[49m\u001b[43mkwargs\u001b[49m\u001b[43m.\u001b[49m\u001b[43mitems\u001b[49m\u001b[43m(\u001b[49m\u001b[43m)\u001b[49m\u001b[43m}\u001b[49m\u001b[43m)\u001b[49m\n\u001b[32m   1526\u001b[39m     bound = new_sig.bind(ax, *args, **kwargs)\n\u001b[32m   1527\u001b[39m     auto_label = (bound.arguments.get(label_namer)\n\u001b[32m   1528\u001b[39m                   \u001b[38;5;129;01mor\u001b[39;00m bound.kwargs.get(label_namer))\n",
      "\u001b[36mFile \u001b[39m\u001b[32md:\\CeneoScraperCS12\\CeneoScraperCS12\\.venv\\Lib\\site-packages\\matplotlib\\axes\\_axes.py:3409\u001b[39m, in \u001b[36mAxes.pie\u001b[39m\u001b[34m(self, x, explode, labels, colors, autopct, pctdistance, shadow, labeldistance, startangle, radius, counterclock, wedgeprops, textprops, center, frame, rotatelabels, normalize, hatch)\u001b[39m\n\u001b[32m   3406\u001b[39m x += expl * math.cos(thetam)\n\u001b[32m   3407\u001b[39m y += expl * math.sin(thetam)\n\u001b[32m-> \u001b[39m\u001b[32m3409\u001b[39m w = \u001b[43mmpatches\u001b[49m\u001b[43m.\u001b[49m\u001b[43mWedge\u001b[49m\u001b[43m(\u001b[49m\u001b[43m(\u001b[49m\u001b[43mx\u001b[49m\u001b[43m,\u001b[49m\u001b[43m \u001b[49m\u001b[43my\u001b[49m\u001b[43m)\u001b[49m\u001b[43m,\u001b[49m\u001b[43m \u001b[49m\u001b[43mradius\u001b[49m\u001b[43m,\u001b[49m\u001b[43m \u001b[49m\u001b[32;43m360.\u001b[39;49m\u001b[43m \u001b[49m\u001b[43m*\u001b[49m\u001b[43m \u001b[49m\u001b[38;5;28;43mmin\u001b[39;49m\u001b[43m(\u001b[49m\u001b[43mtheta1\u001b[49m\u001b[43m,\u001b[49m\u001b[43m \u001b[49m\u001b[43mtheta2\u001b[49m\u001b[43m)\u001b[49m\u001b[43m,\u001b[49m\n\u001b[32m   3410\u001b[39m \u001b[43m                   \u001b[49m\u001b[32;43m360.\u001b[39;49m\u001b[43m \u001b[49m\u001b[43m*\u001b[49m\u001b[43m \u001b[49m\u001b[38;5;28;43mmax\u001b[39;49m\u001b[43m(\u001b[49m\u001b[43mtheta1\u001b[49m\u001b[43m,\u001b[49m\u001b[43m \u001b[49m\u001b[43mtheta2\u001b[49m\u001b[43m)\u001b[49m\u001b[43m,\u001b[49m\n\u001b[32m   3411\u001b[39m \u001b[43m                   \u001b[49m\u001b[43mfacecolor\u001b[49m\u001b[43m=\u001b[49m\u001b[43mget_next_color\u001b[49m\u001b[43m(\u001b[49m\u001b[43m)\u001b[49m\u001b[43m,\u001b[49m\n\u001b[32m   3412\u001b[39m \u001b[43m                   \u001b[49m\u001b[43mhatch\u001b[49m\u001b[43m=\u001b[49m\u001b[38;5;28;43mnext\u001b[39;49m\u001b[43m(\u001b[49m\u001b[43mhatch_cycle\u001b[49m\u001b[43m)\u001b[49m\u001b[43m,\u001b[49m\n\u001b[32m   3413\u001b[39m \u001b[43m                   \u001b[49m\u001b[43mclip_on\u001b[49m\u001b[43m=\u001b[49m\u001b[38;5;28;43;01mFalse\u001b[39;49;00m\u001b[43m,\u001b[49m\n\u001b[32m   3414\u001b[39m \u001b[43m                   \u001b[49m\u001b[43mlabel\u001b[49m\u001b[43m=\u001b[49m\u001b[43mlabel\u001b[49m\u001b[43m)\u001b[49m\n\u001b[32m   3415\u001b[39m w.set(**wedgeprops)\n\u001b[32m   3416\u001b[39m slices.append(w)\n",
      "\u001b[36mFile \u001b[39m\u001b[32md:\\CeneoScraperCS12\\CeneoScraperCS12\\.venv\\Lib\\site-packages\\matplotlib\\patches.py:1252\u001b[39m, in \u001b[36mWedge.__init__\u001b[39m\u001b[34m(self, center, r, theta1, theta2, width, **kwargs)\u001b[39m\n\u001b[32m   1250\u001b[39m \u001b[38;5;28mself\u001b[39m.theta1, \u001b[38;5;28mself\u001b[39m.theta2 = theta1, theta2\n\u001b[32m   1251\u001b[39m \u001b[38;5;28mself\u001b[39m._patch_transform = transforms.IdentityTransform()\n\u001b[32m-> \u001b[39m\u001b[32m1252\u001b[39m \u001b[38;5;28;43mself\u001b[39;49m\u001b[43m.\u001b[49m\u001b[43m_recompute_path\u001b[49m\u001b[43m(\u001b[49m\u001b[43m)\u001b[49m\n",
      "\u001b[36mFile \u001b[39m\u001b[32md:\\CeneoScraperCS12\\CeneoScraperCS12\\.venv\\Lib\\site-packages\\matplotlib\\patches.py:1264\u001b[39m, in \u001b[36mWedge._recompute_path\u001b[39m\u001b[34m(self)\u001b[39m\n\u001b[32m   1261\u001b[39m     connector = Path.LINETO\n\u001b[32m   1263\u001b[39m \u001b[38;5;66;03m# Form the outer ring\u001b[39;00m\n\u001b[32m-> \u001b[39m\u001b[32m1264\u001b[39m arc = \u001b[43mPath\u001b[49m\u001b[43m.\u001b[49m\u001b[43marc\u001b[49m\u001b[43m(\u001b[49m\u001b[43mtheta1\u001b[49m\u001b[43m,\u001b[49m\u001b[43m \u001b[49m\u001b[43mtheta2\u001b[49m\u001b[43m)\u001b[49m\n\u001b[32m   1266\u001b[39m \u001b[38;5;28;01mif\u001b[39;00m \u001b[38;5;28mself\u001b[39m.width \u001b[38;5;129;01mis\u001b[39;00m \u001b[38;5;129;01mnot\u001b[39;00m \u001b[38;5;28;01mNone\u001b[39;00m:\n\u001b[32m   1267\u001b[39m     \u001b[38;5;66;03m# Partial annulus needs to draw the outer ring\u001b[39;00m\n\u001b[32m   1268\u001b[39m     \u001b[38;5;66;03m# followed by a reversed and scaled inner ring\u001b[39;00m\n\u001b[32m   1269\u001b[39m     v1 = arc.vertices\n",
      "\u001b[36mFile \u001b[39m\u001b[32md:\\CeneoScraperCS12\\CeneoScraperCS12\\.venv\\Lib\\site-packages\\matplotlib\\path.py:961\u001b[39m, in \u001b[36mPath.arc\u001b[39m\u001b[34m(cls, theta1, theta2, n, is_wedge)\u001b[39m\n\u001b[32m    959\u001b[39m \u001b[38;5;66;03m# number of curve segments to make\u001b[39;00m\n\u001b[32m    960\u001b[39m \u001b[38;5;28;01mif\u001b[39;00m n \u001b[38;5;129;01mis\u001b[39;00m \u001b[38;5;28;01mNone\u001b[39;00m:\n\u001b[32m--> \u001b[39m\u001b[32m961\u001b[39m     n = \u001b[38;5;28;43mint\u001b[39;49m\u001b[43m(\u001b[49m\u001b[32;43m2\u001b[39;49m\u001b[43m \u001b[49m\u001b[43m*\u001b[49m\u001b[43m*\u001b[49m\u001b[43m \u001b[49m\u001b[43mnp\u001b[49m\u001b[43m.\u001b[49m\u001b[43mceil\u001b[49m\u001b[43m(\u001b[49m\u001b[43m(\u001b[49m\u001b[43meta2\u001b[49m\u001b[43m \u001b[49m\u001b[43m-\u001b[49m\u001b[43m \u001b[49m\u001b[43meta1\u001b[49m\u001b[43m)\u001b[49m\u001b[43m \u001b[49m\u001b[43m/\u001b[49m\u001b[43m \u001b[49m\u001b[43mhalfpi\u001b[49m\u001b[43m)\u001b[49m\u001b[43m)\u001b[49m\n\u001b[32m    962\u001b[39m \u001b[38;5;28;01mif\u001b[39;00m n < \u001b[32m1\u001b[39m:\n\u001b[32m    963\u001b[39m     \u001b[38;5;28;01mraise\u001b[39;00m \u001b[38;5;167;01mValueError\u001b[39;00m(\u001b[33m\"\u001b[39m\u001b[33mn must be >= 1 or None\u001b[39m\u001b[33m\"\u001b[39m)\n",
      "\u001b[31mValueError\u001b[39m: cannot convert float NaN to integer"
     ]
    },
    {
     "ename": "ValueError",
     "evalue": "need at least one array to concatenate",
     "output_type": "error",
     "traceback": [
      "\u001b[31m---------------------------------------------------------------------------\u001b[39m",
      "\u001b[31mValueError\u001b[39m                                Traceback (most recent call last)",
      "\u001b[36mFile \u001b[39m\u001b[32md:\\CeneoScraperCS12\\CeneoScraperCS12\\.venv\\Lib\\site-packages\\IPython\\core\\formatters.py:402\u001b[39m, in \u001b[36mBaseFormatter.__call__\u001b[39m\u001b[34m(self, obj)\u001b[39m\n\u001b[32m    400\u001b[39m     \u001b[38;5;28;01mpass\u001b[39;00m\n\u001b[32m    401\u001b[39m \u001b[38;5;28;01melse\u001b[39;00m:\n\u001b[32m--> \u001b[39m\u001b[32m402\u001b[39m     \u001b[38;5;28;01mreturn\u001b[39;00m \u001b[43mprinter\u001b[49m\u001b[43m(\u001b[49m\u001b[43mobj\u001b[49m\u001b[43m)\u001b[49m\n\u001b[32m    403\u001b[39m \u001b[38;5;66;03m# Finally look for special method names\u001b[39;00m\n\u001b[32m    404\u001b[39m method = get_real_method(obj, \u001b[38;5;28mself\u001b[39m.print_method)\n",
      "\u001b[36mFile \u001b[39m\u001b[32md:\\CeneoScraperCS12\\CeneoScraperCS12\\.venv\\Lib\\site-packages\\IPython\\core\\pylabtools.py:170\u001b[39m, in \u001b[36mprint_figure\u001b[39m\u001b[34m(fig, fmt, bbox_inches, base64, **kwargs)\u001b[39m\n\u001b[32m    167\u001b[39m     \u001b[38;5;28;01mfrom\u001b[39;00m\u001b[38;5;250m \u001b[39m\u001b[34;01mmatplotlib\u001b[39;00m\u001b[34;01m.\u001b[39;00m\u001b[34;01mbackend_bases\u001b[39;00m\u001b[38;5;250m \u001b[39m\u001b[38;5;28;01mimport\u001b[39;00m FigureCanvasBase\n\u001b[32m    168\u001b[39m     FigureCanvasBase(fig)\n\u001b[32m--> \u001b[39m\u001b[32m170\u001b[39m \u001b[43mfig\u001b[49m\u001b[43m.\u001b[49m\u001b[43mcanvas\u001b[49m\u001b[43m.\u001b[49m\u001b[43mprint_figure\u001b[49m\u001b[43m(\u001b[49m\u001b[43mbytes_io\u001b[49m\u001b[43m,\u001b[49m\u001b[43m \u001b[49m\u001b[43m*\u001b[49m\u001b[43m*\u001b[49m\u001b[43mkw\u001b[49m\u001b[43m)\u001b[49m\n\u001b[32m    171\u001b[39m data = bytes_io.getvalue()\n\u001b[32m    172\u001b[39m \u001b[38;5;28;01mif\u001b[39;00m fmt == \u001b[33m'\u001b[39m\u001b[33msvg\u001b[39m\u001b[33m'\u001b[39m:\n",
      "\u001b[36mFile \u001b[39m\u001b[32md:\\CeneoScraperCS12\\CeneoScraperCS12\\.venv\\Lib\\site-packages\\matplotlib\\backend_bases.py:2158\u001b[39m, in \u001b[36mFigureCanvasBase.print_figure\u001b[39m\u001b[34m(self, filename, dpi, facecolor, edgecolor, orientation, format, bbox_inches, pad_inches, bbox_extra_artists, backend, **kwargs)\u001b[39m\n\u001b[32m   2156\u001b[39m \u001b[38;5;28;01mif\u001b[39;00m bbox_inches:\n\u001b[32m   2157\u001b[39m     \u001b[38;5;28;01mif\u001b[39;00m bbox_inches == \u001b[33m\"\u001b[39m\u001b[33mtight\u001b[39m\u001b[33m\"\u001b[39m:\n\u001b[32m-> \u001b[39m\u001b[32m2158\u001b[39m         bbox_inches = \u001b[38;5;28;43mself\u001b[39;49m\u001b[43m.\u001b[49m\u001b[43mfigure\u001b[49m\u001b[43m.\u001b[49m\u001b[43mget_tightbbox\u001b[49m\u001b[43m(\u001b[49m\n\u001b[32m   2159\u001b[39m \u001b[43m            \u001b[49m\u001b[43mrenderer\u001b[49m\u001b[43m,\u001b[49m\u001b[43m \u001b[49m\u001b[43mbbox_extra_artists\u001b[49m\u001b[43m=\u001b[49m\u001b[43mbbox_extra_artists\u001b[49m\u001b[43m)\u001b[49m\n\u001b[32m   2160\u001b[39m         \u001b[38;5;28;01mif\u001b[39;00m (\u001b[38;5;28misinstance\u001b[39m(layout_engine, ConstrainedLayoutEngine) \u001b[38;5;129;01mand\u001b[39;00m\n\u001b[32m   2161\u001b[39m                 pad_inches == \u001b[33m\"\u001b[39m\u001b[33mlayout\u001b[39m\u001b[33m\"\u001b[39m):\n\u001b[32m   2162\u001b[39m             h_pad = layout_engine.get()[\u001b[33m\"\u001b[39m\u001b[33mh_pad\u001b[39m\u001b[33m\"\u001b[39m]\n",
      "\u001b[36mFile \u001b[39m\u001b[32md:\\CeneoScraperCS12\\CeneoScraperCS12\\.venv\\Lib\\site-packages\\matplotlib\\figure.py:1848\u001b[39m, in \u001b[36mFigureBase.get_tightbbox\u001b[39m\u001b[34m(self, renderer, bbox_extra_artists)\u001b[39m\n\u001b[32m   1844\u001b[39m \u001b[38;5;28;01mif\u001b[39;00m ax.get_visible():\n\u001b[32m   1845\u001b[39m     \u001b[38;5;66;03m# some Axes don't take the bbox_extra_artists kwarg so we\u001b[39;00m\n\u001b[32m   1846\u001b[39m     \u001b[38;5;66;03m# need this conditional....\u001b[39;00m\n\u001b[32m   1847\u001b[39m     \u001b[38;5;28;01mtry\u001b[39;00m:\n\u001b[32m-> \u001b[39m\u001b[32m1848\u001b[39m         bbox = \u001b[43max\u001b[49m\u001b[43m.\u001b[49m\u001b[43mget_tightbbox\u001b[49m\u001b[43m(\u001b[49m\n\u001b[32m   1849\u001b[39m \u001b[43m            \u001b[49m\u001b[43mrenderer\u001b[49m\u001b[43m,\u001b[49m\u001b[43m \u001b[49m\u001b[43mbbox_extra_artists\u001b[49m\u001b[43m=\u001b[49m\u001b[43mbbox_extra_artists\u001b[49m\u001b[43m)\u001b[49m\n\u001b[32m   1850\u001b[39m     \u001b[38;5;28;01mexcept\u001b[39;00m \u001b[38;5;167;01mTypeError\u001b[39;00m:\n\u001b[32m   1851\u001b[39m         bbox = ax.get_tightbbox(renderer)\n",
      "\u001b[36mFile \u001b[39m\u001b[32md:\\CeneoScraperCS12\\CeneoScraperCS12\\.venv\\Lib\\site-packages\\matplotlib\\axes\\_base.py:4571\u001b[39m, in \u001b[36m_AxesBase.get_tightbbox\u001b[39m\u001b[34m(self, renderer, call_axes_locator, bbox_extra_artists, for_layout_only)\u001b[39m\n\u001b[32m   4568\u001b[39m     bbox_artists = \u001b[38;5;28mself\u001b[39m.get_default_bbox_extra_artists()\n\u001b[32m   4570\u001b[39m \u001b[38;5;28;01mfor\u001b[39;00m a \u001b[38;5;129;01min\u001b[39;00m bbox_artists:\n\u001b[32m-> \u001b[39m\u001b[32m4571\u001b[39m     bbox = \u001b[43ma\u001b[49m\u001b[43m.\u001b[49m\u001b[43mget_tightbbox\u001b[49m\u001b[43m(\u001b[49m\u001b[43mrenderer\u001b[49m\u001b[43m)\u001b[49m\n\u001b[32m   4572\u001b[39m     \u001b[38;5;28;01mif\u001b[39;00m (bbox \u001b[38;5;129;01mis\u001b[39;00m \u001b[38;5;129;01mnot\u001b[39;00m \u001b[38;5;28;01mNone\u001b[39;00m\n\u001b[32m   4573\u001b[39m             \u001b[38;5;129;01mand\u001b[39;00m \u001b[32m0\u001b[39m < bbox.width < np.inf\n\u001b[32m   4574\u001b[39m             \u001b[38;5;129;01mand\u001b[39;00m \u001b[32m0\u001b[39m < bbox.height < np.inf):\n\u001b[32m   4575\u001b[39m         bb.append(bbox)\n",
      "\u001b[36mFile \u001b[39m\u001b[32md:\\CeneoScraperCS12\\CeneoScraperCS12\\.venv\\Lib\\site-packages\\matplotlib\\artist.py:364\u001b[39m, in \u001b[36mArtist.get_tightbbox\u001b[39m\u001b[34m(self, renderer)\u001b[39m\n\u001b[32m    348\u001b[39m \u001b[38;5;28;01mdef\u001b[39;00m\u001b[38;5;250m \u001b[39m\u001b[34mget_tightbbox\u001b[39m(\u001b[38;5;28mself\u001b[39m, renderer=\u001b[38;5;28;01mNone\u001b[39;00m):\n\u001b[32m    349\u001b[39m \u001b[38;5;250m    \u001b[39m\u001b[33;03m\"\"\"\u001b[39;00m\n\u001b[32m    350\u001b[39m \u001b[33;03m    Like `.Artist.get_window_extent`, but includes any clipping.\u001b[39;00m\n\u001b[32m    351\u001b[39m \n\u001b[32m   (...)\u001b[39m\u001b[32m    362\u001b[39m \u001b[33;03m        Returns None if clipping results in no intersection.\u001b[39;00m\n\u001b[32m    363\u001b[39m \u001b[33;03m    \"\"\"\u001b[39;00m\n\u001b[32m--> \u001b[39m\u001b[32m364\u001b[39m     bbox = \u001b[38;5;28;43mself\u001b[39;49m\u001b[43m.\u001b[49m\u001b[43mget_window_extent\u001b[49m\u001b[43m(\u001b[49m\u001b[43mrenderer\u001b[49m\u001b[43m)\u001b[49m\n\u001b[32m    365\u001b[39m     \u001b[38;5;28;01mif\u001b[39;00m \u001b[38;5;28mself\u001b[39m.get_clip_on():\n\u001b[32m    366\u001b[39m         clip_box = \u001b[38;5;28mself\u001b[39m.get_clip_box()\n",
      "\u001b[36mFile \u001b[39m\u001b[32md:\\CeneoScraperCS12\\CeneoScraperCS12\\.venv\\Lib\\site-packages\\matplotlib\\patches.py:655\u001b[39m, in \u001b[36mPatch.get_window_extent\u001b[39m\u001b[34m(self, renderer)\u001b[39m\n\u001b[32m    654\u001b[39m \u001b[38;5;28;01mdef\u001b[39;00m\u001b[38;5;250m \u001b[39m\u001b[34mget_window_extent\u001b[39m(\u001b[38;5;28mself\u001b[39m, renderer=\u001b[38;5;28;01mNone\u001b[39;00m):\n\u001b[32m--> \u001b[39m\u001b[32m655\u001b[39m     \u001b[38;5;28;01mreturn\u001b[39;00m \u001b[38;5;28;43mself\u001b[39;49m\u001b[43m.\u001b[49m\u001b[43mget_path\u001b[49m\u001b[43m(\u001b[49m\u001b[43m)\u001b[49m\u001b[43m.\u001b[49m\u001b[43mget_extents\u001b[49m\u001b[43m(\u001b[49m\u001b[38;5;28;43mself\u001b[39;49m\u001b[43m.\u001b[49m\u001b[43mget_transform\u001b[49m\u001b[43m(\u001b[49m\u001b[43m)\u001b[49m\u001b[43m)\u001b[49m\n",
      "\u001b[36mFile \u001b[39m\u001b[32md:\\CeneoScraperCS12\\CeneoScraperCS12\\.venv\\Lib\\site-packages\\matplotlib\\path.py:642\u001b[39m, in \u001b[36mPath.get_extents\u001b[39m\u001b[34m(self, transform, **kwargs)\u001b[39m\n\u001b[32m    640\u001b[39m         \u001b[38;5;66;03m# as can the ends of the curve\u001b[39;00m\n\u001b[32m    641\u001b[39m         xys.append(curve([\u001b[32m0\u001b[39m, *dzeros, \u001b[32m1\u001b[39m]))\n\u001b[32m--> \u001b[39m\u001b[32m642\u001b[39m     xys = \u001b[43mnp\u001b[49m\u001b[43m.\u001b[49m\u001b[43mconcatenate\u001b[49m\u001b[43m(\u001b[49m\u001b[43mxys\u001b[49m\u001b[43m)\u001b[49m\n\u001b[32m    643\u001b[39m \u001b[38;5;28;01mif\u001b[39;00m \u001b[38;5;28mlen\u001b[39m(xys):\n\u001b[32m    644\u001b[39m     \u001b[38;5;28;01mreturn\u001b[39;00m Bbox([xys.min(axis=\u001b[32m0\u001b[39m), xys.max(axis=\u001b[32m0\u001b[39m)])\n",
      "\u001b[31mValueError\u001b[39m: need at least one array to concatenate"
     ]
    },
    {
     "data": {
      "text/plain": [
       "<Figure size 640x480 with 1 Axes>"
      ]
     },
     "metadata": {},
     "output_type": "display_data"
    }
   ],
   "source": [
    "recommendations.plot.pie(\n",
    "    label = \"\",\n",
    "    labels = [\"Recommend\", \"Not recommend\",\"No opinion\"],\n",
    "    autopct = lambda r: f\"{r:.1f}%\" if r>0 else \"\"\n",
    "\n",
    ")\n",
    "plt.title(f\"Recommendations for product {product_id}\\nTotal number of opinions: {opinions_count}\")\n",
    "plt.savefig(f\"./pie_charts/{product_id}.png\")\n",
    "plt.close()"
   ]
  },
  {
   "cell_type": "code",
   "execution_count": 96,
   "id": "c2906206",
   "metadata": {},
   "outputs": [
    {
     "data": {
      "text/plain": [
       "stars\n",
       "0.5    0\n",
       "1.0    0\n",
       "1.5    0\n",
       "2.0    0\n",
       "2.5    0\n",
       "3.0    0\n",
       "3.5    0\n",
       "4.0    1\n",
       "4.5    0\n",
       "5.0    9\n",
       "Name: count, dtype: int64"
      ]
     },
     "execution_count": 96,
     "metadata": {},
     "output_type": "execute_result"
    }
   ],
   "source": [
    "stars = opinions.stars.value_counts().reindex(list(np.arange(0.5,5.5,0.5)), fill_value=0)\n",
    "stars"
   ]
  },
  {
   "cell_type": "code",
   "execution_count": 101,
   "id": "b7423152",
   "metadata": {},
   "outputs": [
    {
     "data": {
      "image/png": "[encoded data removed]",
      "text/plain": [
       "<Figure size 640x480 with 1 Axes>"
      ]
     },
     "metadata": {},
     "output_type": "display_data"
    }
   ],
   "source": [
    "ax = stars.plot.bar(\n",
    "    color = [\"forestgreen\" if s>3.5 else \"crimson\" if s<3 else \"steelblue\" for s in stars.index]\n",
    ")\n",
    "plt.bar_label(container=ax.containers[0])\n",
    "plt.xlabel(\"Number of stars\")\n",
    "plt.ylabel(\"Number of opinions\")\n",
    "plt.title(f\"Number of opinions about product {product_id}\\nwith particular number of stars\")\n",
    "plt.xticks(rotation=0)\n",
    "plt.show()\n",
    "plt.savefig(f\"./bar_charts/{product_id}.png\")\n",
    "plt.close()"
   ]
  }
 ],
 "metadata": {
  "kernelspec": {
   "display_name": ".venv",
   "language": "python",
   "name": "python3"
  },
  "language_info": {
   "codemirror_mode": {
    "name": "ipython",
    "version": 3
   },
   "file_extension": ".py",
   "mimetype": "text/x-python",
   "name": "python",
   "nbconvert_exporter": "python",
   "pygments_lexer": "ipython3",
   "version": "3.13.0"
  }
 },
 "nbformat": 4,
 "nbformat_minor": 5
}
